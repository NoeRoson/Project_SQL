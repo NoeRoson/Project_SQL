{
 "cells": [
  {
   "cell_type": "markdown",
   "id": "444dbc67",
   "metadata": {},
   "source": [
    "# PROYECTO SQL🐬\n",
    "## LIMPIEZA DE DATOS\n",
    "\n",
    "\n",
    "El primer paso será realizar la limpieza de los datos contenidos en un total de siete archivos '.csv' relativos a los registros recogidos por el gerente de un antiguo videoclub. \n",
    "\n",
    "A continuación, se recoge el índice de los pasos seguidos para la limpieza de cada archivo:\n",
    "\n",
    "### **1. Limpieza del archivo 'actor.csv'**\n",
    "\n",
    "Contiene el ID, nombres, apellidos y fecha de última actualización.\n",
    "\n",
    "### **2. Limpieza del archivo 'category.csv'.**\n",
    "\n",
    "Contiene el ID, 16 categorías y fecha de última actualización.\n",
    "\n",
    "### **3. Limpieza del archivo 'film.csv'.**\n",
    "\n",
    "Contiene el ID, título de la película, duración, descripción, año de lanzamiento, clasificación, características espeicales, ID del idioma, idioma original, duración del alquiler, tasa de alquiler, tasa por reposición y fecha de última actualización.\n",
    "\n",
    "### **4. Limpieza del archivo 'inventary.csv'.**\n",
    "\n",
    "Contiene el ID, el ID de la película, el ID de la tienda y fecha de última actualización.\n",
    "\n",
    "### **5. Limpieza del archivo 'language.csv'.**\n",
    "\n",
    "Contiene el ID, nombre del idioma y fecha de última actualización.\n",
    "\n",
    "### **6. Limpieza del archivo 'old_HDD'.**\n",
    "\n",
    "Contiene nombre y apellidos de actores y actrices, título de la película, año de lanzamiento y ID de la categoría.\n",
    "\n",
    "### **7. Limpieza del archivo 'rental'.**\n",
    "\n",
    "Contiene el ID, fecha y hora del alquiler y de la devolución, el ID del inventario, el ID del cliente, el ID del vendedor/a y la fecha de la última actualización."
   ]
  },
  {
   "cell_type": "markdown",
   "id": "65d8b52b",
   "metadata": {},
   "source": [
    " Comenzamos importando las librerías necesarias para realizar la limpieza:"
   ]
  },
  {
   "cell_type": "code",
   "execution_count": 1,
   "id": "49d98177",
   "metadata": {},
   "outputs": [],
   "source": [
    "import pandas as pd\n",
    "pd.set_option('display.max_columns', None)\n",
    "import numpy as np\n",
    "import pylab as plt\n",
    "import seaborn as sns"
   ]
  },
  {
   "cell_type": "markdown",
   "id": "9a9002ea",
   "metadata": {},
   "source": [
    "## 1. LIMPIEZA DEL ARCHIVO 'actor.csv':\n",
    "\n",
    "+ Comprobación de nulos.\n",
    "+ Comprobación de duplicados.\n",
    "+ Unión de columna 'first_name' y 'last_name' en 'name'.\n",
    "+ Comprobación y eliminación de columnas con valores idénticos.\n",
    "+ Reseteo del ID.\n",
    "+ Eliminación de fila con valores repetidos.\n",
    "\n",
    "**CONTENIDO TRAS LA LIMPIEZA:**\n",
    "\n",
    "Total = 199 personas.\n",
    "- ID\n",
    "- Nombre completo"
   ]
  },
  {
   "cell_type": "code",
   "execution_count": 2,
   "id": "4b398374",
   "metadata": {},
   "outputs": [
    {
     "name": "stdout",
     "output_type": "stream",
     "text": [
      "<class 'pandas.core.frame.DataFrame'>\n",
      "RangeIndex: 200 entries, 0 to 199\n",
      "Data columns (total 4 columns):\n",
      " #   Column       Non-Null Count  Dtype \n",
      "---  ------       --------------  ----- \n",
      " 0   actor_id     200 non-null    int64 \n",
      " 1   first_name   200 non-null    object\n",
      " 2   last_name    200 non-null    object\n",
      " 3   last_update  200 non-null    object\n",
      "dtypes: int64(1), object(3)\n",
      "memory usage: 41.1 KB\n"
     ]
    }
   ],
   "source": [
    "act = pd.read_csv('../Data/actor.csv', encoding='latin1')   # Importamos el archivo 'actor.csv'\n",
    "act.info(memory_usage = 'deep')"
   ]
  },
  {
   "cell_type": "code",
   "execution_count": 3,
   "id": "d5618004",
   "metadata": {},
   "outputs": [
    {
     "data": {
      "text/html": [
       "<div>\n",
       "<style scoped>\n",
       "    .dataframe tbody tr th:only-of-type {\n",
       "        vertical-align: middle;\n",
       "    }\n",
       "\n",
       "    .dataframe tbody tr th {\n",
       "        vertical-align: top;\n",
       "    }\n",
       "\n",
       "    .dataframe thead th {\n",
       "        text-align: right;\n",
       "    }\n",
       "</style>\n",
       "<table border=\"1\" class=\"dataframe\">\n",
       "  <thead>\n",
       "    <tr style=\"text-align: right;\">\n",
       "      <th></th>\n",
       "      <th>actor_id</th>\n",
       "      <th>first_name</th>\n",
       "      <th>last_name</th>\n",
       "      <th>last_update</th>\n",
       "    </tr>\n",
       "  </thead>\n",
       "  <tbody>\n",
       "    <tr>\n",
       "      <th>0</th>\n",
       "      <td>1</td>\n",
       "      <td>PENELOPE</td>\n",
       "      <td>GUINESS</td>\n",
       "      <td>2006-02-15 04:34:33</td>\n",
       "    </tr>\n",
       "    <tr>\n",
       "      <th>1</th>\n",
       "      <td>2</td>\n",
       "      <td>NICK</td>\n",
       "      <td>WAHLBERG</td>\n",
       "      <td>2006-02-15 04:34:33</td>\n",
       "    </tr>\n",
       "    <tr>\n",
       "      <th>2</th>\n",
       "      <td>3</td>\n",
       "      <td>ED</td>\n",
       "      <td>CHASE</td>\n",
       "      <td>2006-02-15 04:34:33</td>\n",
       "    </tr>\n",
       "    <tr>\n",
       "      <th>3</th>\n",
       "      <td>4</td>\n",
       "      <td>JENNIFER</td>\n",
       "      <td>DAVIS</td>\n",
       "      <td>2006-02-15 04:34:33</td>\n",
       "    </tr>\n",
       "    <tr>\n",
       "      <th>4</th>\n",
       "      <td>5</td>\n",
       "      <td>JOHNNY</td>\n",
       "      <td>LOLLOBRIGIDA</td>\n",
       "      <td>2006-02-15 04:34:33</td>\n",
       "    </tr>\n",
       "    <tr>\n",
       "      <th>...</th>\n",
       "      <td>...</td>\n",
       "      <td>...</td>\n",
       "      <td>...</td>\n",
       "      <td>...</td>\n",
       "    </tr>\n",
       "    <tr>\n",
       "      <th>195</th>\n",
       "      <td>196</td>\n",
       "      <td>BELA</td>\n",
       "      <td>WALKEN</td>\n",
       "      <td>2006-02-15 04:34:33</td>\n",
       "    </tr>\n",
       "    <tr>\n",
       "      <th>196</th>\n",
       "      <td>197</td>\n",
       "      <td>REESE</td>\n",
       "      <td>WEST</td>\n",
       "      <td>2006-02-15 04:34:33</td>\n",
       "    </tr>\n",
       "    <tr>\n",
       "      <th>197</th>\n",
       "      <td>198</td>\n",
       "      <td>MARY</td>\n",
       "      <td>KEITEL</td>\n",
       "      <td>2006-02-15 04:34:33</td>\n",
       "    </tr>\n",
       "    <tr>\n",
       "      <th>198</th>\n",
       "      <td>199</td>\n",
       "      <td>JULIA</td>\n",
       "      <td>FAWCETT</td>\n",
       "      <td>2006-02-15 04:34:33</td>\n",
       "    </tr>\n",
       "    <tr>\n",
       "      <th>199</th>\n",
       "      <td>200</td>\n",
       "      <td>THORA</td>\n",
       "      <td>TEMPLE</td>\n",
       "      <td>2006-02-15 04:34:33</td>\n",
       "    </tr>\n",
       "  </tbody>\n",
       "</table>\n",
       "<p>200 rows × 4 columns</p>\n",
       "</div>"
      ],
      "text/plain": [
       "     actor_id first_name     last_name          last_update\n",
       "0           1   PENELOPE       GUINESS  2006-02-15 04:34:33\n",
       "1           2       NICK      WAHLBERG  2006-02-15 04:34:33\n",
       "2           3         ED         CHASE  2006-02-15 04:34:33\n",
       "3           4   JENNIFER         DAVIS  2006-02-15 04:34:33\n",
       "4           5     JOHNNY  LOLLOBRIGIDA  2006-02-15 04:34:33\n",
       "..        ...        ...           ...                  ...\n",
       "195       196       BELA        WALKEN  2006-02-15 04:34:33\n",
       "196       197      REESE          WEST  2006-02-15 04:34:33\n",
       "197       198       MARY        KEITEL  2006-02-15 04:34:33\n",
       "198       199      JULIA       FAWCETT  2006-02-15 04:34:33\n",
       "199       200      THORA        TEMPLE  2006-02-15 04:34:33\n",
       "\n",
       "[200 rows x 4 columns]"
      ]
     },
     "execution_count": 3,
     "metadata": {},
     "output_type": "execute_result"
    }
   ],
   "source": [
    "act    # Exploramos las columnas y filas"
   ]
  },
  {
   "cell_type": "code",
   "execution_count": 4,
   "id": "c6795aec",
   "metadata": {},
   "outputs": [
    {
     "data": {
      "text/plain": [
       "Series([], dtype: int64)"
      ]
     },
     "execution_count": 4,
     "metadata": {},
     "output_type": "execute_result"
    }
   ],
   "source": [
    "nan_cols = act.isna().sum()   # Comprobamos la cantidad de nulos por columna\n",
    "\n",
    "nan_cols[nan_cols>0]   # En este caso, no existen nulos en el archivo 'actor'"
   ]
  },
  {
   "cell_type": "code",
   "execution_count": 5,
   "id": "85ef0b63",
   "metadata": {},
   "outputs": [
    {
     "data": {
      "text/plain": [
       "array(['2006-02-15 04:34:33'], dtype=object)"
      ]
     },
     "execution_count": 5,
     "metadata": {},
     "output_type": "execute_result"
    }
   ],
   "source": [
    "act['last_update'].unique()  # Comprobamos si la columna last_update tiene valores idénticos en todas las filas"
   ]
  },
  {
   "cell_type": "code",
   "execution_count": 6,
   "id": "0796612a",
   "metadata": {},
   "outputs": [],
   "source": [
    "# Eliminamos la columna 'last_update'\n",
    "\n",
    "act.drop(columns = ['last_update'], inplace=True)"
   ]
  },
  {
   "cell_type": "code",
   "execution_count": 7,
   "id": "ff9ebbbd",
   "metadata": {},
   "outputs": [],
   "source": [
    "# Unificamos el nombre y el apellido en una sola columna llamada 'name'\n",
    "\n",
    "act['name'] = act['first_name'] + ' ' + act['last_name']\n",
    "delet = ['first_name', 'last_name']\n",
    "act.drop(columns = delet, inplace=True)"
   ]
  },
  {
   "cell_type": "code",
   "execution_count": 8,
   "id": "8017ae8a",
   "metadata": {},
   "outputs": [
    {
     "data": {
      "text/html": [
       "<div>\n",
       "<style scoped>\n",
       "    .dataframe tbody tr th:only-of-type {\n",
       "        vertical-align: middle;\n",
       "    }\n",
       "\n",
       "    .dataframe tbody tr th {\n",
       "        vertical-align: top;\n",
       "    }\n",
       "\n",
       "    .dataframe thead th {\n",
       "        text-align: right;\n",
       "    }\n",
       "</style>\n",
       "<table border=\"1\" class=\"dataframe\">\n",
       "  <thead>\n",
       "    <tr style=\"text-align: right;\">\n",
       "      <th></th>\n",
       "      <th>actor_id</th>\n",
       "      <th>name</th>\n",
       "    </tr>\n",
       "  </thead>\n",
       "  <tbody>\n",
       "    <tr>\n",
       "      <th>100</th>\n",
       "      <td>101</td>\n",
       "      <td>SUSAN DAVIS</td>\n",
       "    </tr>\n",
       "    <tr>\n",
       "      <th>109</th>\n",
       "      <td>110</td>\n",
       "      <td>SUSAN DAVIS</td>\n",
       "    </tr>\n",
       "  </tbody>\n",
       "</table>\n",
       "</div>"
      ],
      "text/plain": [
       "     actor_id         name\n",
       "100       101  SUSAN DAVIS\n",
       "109       110  SUSAN DAVIS"
      ]
     },
     "execution_count": 8,
     "metadata": {},
     "output_type": "execute_result"
    }
   ],
   "source": [
    "# Comprobamos si existen nombres duplicados\n",
    "\n",
    "duplicated= act[act['name'].duplicated(keep=False)]\n",
    "duplicated\n"
   ]
  },
  {
   "cell_type": "code",
   "execution_count": 9,
   "id": "8a099507",
   "metadata": {},
   "outputs": [],
   "source": [
    "act = act.drop(109)   # Eliminamos la fila con el índice 109"
   ]
  },
  {
   "cell_type": "code",
   "execution_count": 12,
   "id": "d7a06a44",
   "metadata": {},
   "outputs": [],
   "source": [
    "# Reseteamos el índice y el 'actor_id'\n",
    "\n",
    "act.reset_index(drop=True, inplace=True)\n",
    "\n",
    "act['actor_id'] = range(1, len(act) + 1)"
   ]
  },
  {
   "cell_type": "code",
   "execution_count": null,
   "id": "ae7a45f5",
   "metadata": {},
   "outputs": [],
   "source": [
    "# Exportamos el archivo\n",
    "#act.to_csv('act_clean.csv', index=False)"
   ]
  },
  {
   "cell_type": "markdown",
   "id": "7b57bbd8",
   "metadata": {},
   "source": [
    "### **DATAFRAME FINAL 'ACTOR':**"
   ]
  },
  {
   "cell_type": "code",
   "execution_count": 13,
   "id": "3d48a33d",
   "metadata": {},
   "outputs": [
    {
     "data": {
      "text/html": [
       "<div>\n",
       "<style scoped>\n",
       "    .dataframe tbody tr th:only-of-type {\n",
       "        vertical-align: middle;\n",
       "    }\n",
       "\n",
       "    .dataframe tbody tr th {\n",
       "        vertical-align: top;\n",
       "    }\n",
       "\n",
       "    .dataframe thead th {\n",
       "        text-align: right;\n",
       "    }\n",
       "</style>\n",
       "<table border=\"1\" class=\"dataframe\">\n",
       "  <thead>\n",
       "    <tr style=\"text-align: right;\">\n",
       "      <th></th>\n",
       "      <th>actor_id</th>\n",
       "      <th>name</th>\n",
       "    </tr>\n",
       "  </thead>\n",
       "  <tbody>\n",
       "    <tr>\n",
       "      <th>0</th>\n",
       "      <td>1</td>\n",
       "      <td>PENELOPE GUINESS</td>\n",
       "    </tr>\n",
       "    <tr>\n",
       "      <th>1</th>\n",
       "      <td>2</td>\n",
       "      <td>NICK WAHLBERG</td>\n",
       "    </tr>\n",
       "    <tr>\n",
       "      <th>2</th>\n",
       "      <td>3</td>\n",
       "      <td>ED CHASE</td>\n",
       "    </tr>\n",
       "    <tr>\n",
       "      <th>3</th>\n",
       "      <td>4</td>\n",
       "      <td>JENNIFER DAVIS</td>\n",
       "    </tr>\n",
       "    <tr>\n",
       "      <th>4</th>\n",
       "      <td>5</td>\n",
       "      <td>JOHNNY LOLLOBRIGIDA</td>\n",
       "    </tr>\n",
       "    <tr>\n",
       "      <th>...</th>\n",
       "      <td>...</td>\n",
       "      <td>...</td>\n",
       "    </tr>\n",
       "    <tr>\n",
       "      <th>194</th>\n",
       "      <td>195</td>\n",
       "      <td>BELA WALKEN</td>\n",
       "    </tr>\n",
       "    <tr>\n",
       "      <th>195</th>\n",
       "      <td>196</td>\n",
       "      <td>REESE WEST</td>\n",
       "    </tr>\n",
       "    <tr>\n",
       "      <th>196</th>\n",
       "      <td>197</td>\n",
       "      <td>MARY KEITEL</td>\n",
       "    </tr>\n",
       "    <tr>\n",
       "      <th>197</th>\n",
       "      <td>198</td>\n",
       "      <td>JULIA FAWCETT</td>\n",
       "    </tr>\n",
       "    <tr>\n",
       "      <th>198</th>\n",
       "      <td>199</td>\n",
       "      <td>THORA TEMPLE</td>\n",
       "    </tr>\n",
       "  </tbody>\n",
       "</table>\n",
       "<p>199 rows × 2 columns</p>\n",
       "</div>"
      ],
      "text/plain": [
       "     actor_id                 name\n",
       "0           1     PENELOPE GUINESS\n",
       "1           2        NICK WAHLBERG\n",
       "2           3             ED CHASE\n",
       "3           4       JENNIFER DAVIS\n",
       "4           5  JOHNNY LOLLOBRIGIDA\n",
       "..        ...                  ...\n",
       "194       195          BELA WALKEN\n",
       "195       196           REESE WEST\n",
       "196       197          MARY KEITEL\n",
       "197       198        JULIA FAWCETT\n",
       "198       199         THORA TEMPLE\n",
       "\n",
       "[199 rows x 2 columns]"
      ]
     },
     "execution_count": 13,
     "metadata": {},
     "output_type": "execute_result"
    }
   ],
   "source": [
    "act"
   ]
  },
  {
   "cell_type": "markdown",
   "id": "d703d5ef",
   "metadata": {},
   "source": [
    "# 2. LIMPIEZA DEL ARCHIVO 'category.csv'\n",
    "\n",
    "+ Exploración de filas y columnas.\n",
    "+ Eliminación de columna con valores idénticos.\n",
    "\n",
    "**CONTENIDO TRAS LA LIMPIEZA:** \n",
    "\n",
    "Total = 16 categorías.\n",
    "\n",
    "- ID\n",
    "- Categoría"
   ]
  },
  {
   "cell_type": "code",
   "execution_count": null,
   "id": "525361ae",
   "metadata": {},
   "outputs": [],
   "source": [
    "cat = pd.read_csv('../Data/category.csv', encoding='latin1')   # Cargamos el archivo\n",
    "cat    # Exploramos los valores en columnas y filas"
   ]
  },
  {
   "cell_type": "code",
   "execution_count": null,
   "id": "365dfc4f",
   "metadata": {},
   "outputs": [],
   "source": [
    "cat.last_update.unique()   # La columna 'last_update' contiene valores idénticos"
   ]
  },
  {
   "cell_type": "code",
   "execution_count": null,
   "id": "accc1d59",
   "metadata": {},
   "outputs": [],
   "source": [
    "cat.drop(columns = ['last_update'], inplace=True)    # Se procede a eliminarla"
   ]
  },
  {
   "cell_type": "markdown",
   "id": "1abdaa57",
   "metadata": {},
   "source": [
    "### **DATAFRAME FINAL 'CATEGORY':**"
   ]
  },
  {
   "cell_type": "code",
   "execution_count": null,
   "id": "49746201",
   "metadata": {},
   "outputs": [],
   "source": [
    "cat.head() "
   ]
  },
  {
   "cell_type": "code",
   "execution_count": null,
   "id": "dd1817d0",
   "metadata": {},
   "outputs": [],
   "source": [
    "# Exportamos el archivo \n",
    "\n",
    "#cat.to_csv('cat_clean.csv', index=False)"
   ]
  },
  {
   "cell_type": "markdown",
   "id": "a953782f",
   "metadata": {},
   "source": [
    "# 3. LIMPIEZA DEL ARCHIVO 'film.csv'\n",
    "\n",
    "\n",
    "+ Exploración y limpieza por columnas.\n",
    "+ Eliminación de columnas con valores únicos.\n",
    "+ Eliminación de columna con valores nulos.\n",
    "+ Creación de nuevas columnas y reestructuración.\n",
    "\n",
    "**CONTENIDO TRAS LA LIMPIEZA:**\n",
    "\n",
    "Total = 1000 películas.\n",
    "- ID\n",
    "- Título\n",
    "- Sinopsis\n",
    "- ID del idioma\n",
    "- Duración (en minutos)\n",
    "- Clasificación\n",
    "- Escenas eliminadas: sí o no\n",
    "- Detrás de escena: sí o no\n",
    "- Comentarios: sí o no\n",
    "- Trailer: sí o no\n",
    "- Duración del alquiler (en días)\n",
    "- Precio del alquiler\n",
    "- Coste de reemplazo"
   ]
  },
  {
   "cell_type": "code",
   "execution_count": null,
   "id": "eaab432c",
   "metadata": {},
   "outputs": [],
   "source": [
    "film = pd.read_csv('../Data/film.csv', encoding='latin1')"
   ]
  },
  {
   "cell_type": "code",
   "execution_count": null,
   "id": "843708d5",
   "metadata": {},
   "outputs": [],
   "source": [
    "film.info(memory_usage = 'deep')"
   ]
  },
  {
   "cell_type": "code",
   "execution_count": null,
   "id": "6ea93aec",
   "metadata": {},
   "outputs": [],
   "source": [
    "film.head()"
   ]
  },
  {
   "cell_type": "markdown",
   "id": "9f9229ba",
   "metadata": {},
   "source": [
    "En una vista general, podemos observar que ciertas columnas podrían contener en todas sus filas valores únicos **('release_year', 'language_id','last_update')**. Vamos a comprobarlo:"
   ]
  },
  {
   "cell_type": "code",
   "execution_count": null,
   "id": "d02efb11",
   "metadata": {},
   "outputs": [],
   "source": [
    "film.release_year.unique()   # Valores únicos en la columna 'release_year' ----> Eliminamos"
   ]
  },
  {
   "cell_type": "code",
   "execution_count": null,
   "id": "4bd18684",
   "metadata": {},
   "outputs": [],
   "source": [
    "film.drop(columns = ['release_year'], inplace=True)  "
   ]
  },
  {
   "cell_type": "code",
   "execution_count": null,
   "id": "2e9a67a2",
   "metadata": {},
   "outputs": [],
   "source": [
    "film.last_update.unique()    # Valores únicos en la columna 'last_update' ----> Eliminamos"
   ]
  },
  {
   "cell_type": "code",
   "execution_count": null,
   "id": "b637dc77",
   "metadata": {},
   "outputs": [],
   "source": [
    "film.drop(columns = ['last_update'], inplace=True)"
   ]
  },
  {
   "cell_type": "code",
   "execution_count": null,
   "id": "8f7a0415",
   "metadata": {},
   "outputs": [],
   "source": [
    "nan_cols = film.isna().sum()   # Comprobamos la cantidad de nulos por columna\n",
    "\n",
    "nan_cols[nan_cols>0]           # Todos los valores de la columna 'original_language_id' son nulos ---> Eliminamos"
   ]
  },
  {
   "cell_type": "code",
   "execution_count": null,
   "id": "9cbf13a0",
   "metadata": {},
   "outputs": [],
   "source": [
    "film.drop(columns = ['original_language_id'], inplace=True)"
   ]
  },
  {
   "cell_type": "code",
   "execution_count": null,
   "id": "28ccead5",
   "metadata": {},
   "outputs": [],
   "source": [
    "len(film.title.unique())   # Comprobamos que no hay valores repetidos en los títulos"
   ]
  },
  {
   "cell_type": "markdown",
   "id": "534ba306",
   "metadata": {},
   "source": [
    "Limpieza y comprobación de columnas: **'description', 'rental_duration, 'rental_rate', 'length', 'replacement_cost', 'rating' y 'special_features'**. Comprobamos los valores únicos para ver si hay duplicados o valores erróneos y unificamos los valores de 'description' y 'special_features' para que sean todas minúsculas."
   ]
  },
  {
   "cell_type": "code",
   "execution_count": null,
   "id": "85fe402e",
   "metadata": {},
   "outputs": [],
   "source": [
    "film.description.unique()       # Comprobación de valores únicos"
   ]
  },
  {
   "cell_type": "code",
   "execution_count": null,
   "id": "45c2f6dc",
   "metadata": {},
   "outputs": [],
   "source": [
    "film.description = film.description.str.lower() # Convertimos todas las strings en minúsculas "
   ]
  },
  {
   "cell_type": "code",
   "execution_count": null,
   "id": "8b52f021",
   "metadata": {},
   "outputs": [],
   "source": [
    "film.rental_duration.unique()   # Comprobación de valores únicos"
   ]
  },
  {
   "cell_type": "code",
   "execution_count": null,
   "id": "3ca0d2ef",
   "metadata": {},
   "outputs": [],
   "source": [
    "film.rental_rate.unique()       # Comprobación de valores únicos"
   ]
  },
  {
   "cell_type": "code",
   "execution_count": null,
   "id": "ce133e0d",
   "metadata": {},
   "outputs": [],
   "source": [
    "film.length.unique()            # Comprobación de valores únicos"
   ]
  },
  {
   "cell_type": "code",
   "execution_count": null,
   "id": "0b445fa2",
   "metadata": {},
   "outputs": [],
   "source": [
    "film.replacement_cost.unique()  # Comprobación de valores únicos"
   ]
  },
  {
   "cell_type": "code",
   "execution_count": null,
   "id": "9dcec4ce",
   "metadata": {},
   "outputs": [],
   "source": [
    "film.rating.unique()            # Comprobación de valores únicos"
   ]
  },
  {
   "cell_type": "code",
   "execution_count": null,
   "id": "c7bf65f6",
   "metadata": {},
   "outputs": [],
   "source": [
    "film.special_features.unique()  # Comprobación de valores únicos"
   ]
  },
  {
   "cell_type": "markdown",
   "id": "9fb6da07",
   "metadata": {},
   "source": [
    "Con los valores de la columna **'special_features'** vamos a crear funciones para dividir su contenido en nuevas columnas que devuelvan un booleano (1 si existe, 0 si no existe):\n",
    "+ 'deleted_scenes'\n",
    "+ 'behind_scenes'\n",
    "+ 'trailers'\n",
    "+ 'commentaries'\n",
    "\n",
    "Posteriormente, eliminamos la columna **'special_features'**."
   ]
  },
  {
   "cell_type": "code",
   "execution_count": null,
   "id": "a9f13037",
   "metadata": {},
   "outputs": [],
   "source": [
    "# Funciones:\n",
    "\n",
    "def deleted(fila):\n",
    "    \n",
    "    if 'Deleted' in fila['special_features']:\n",
    "        return 1\n",
    "    else:\n",
    "        return 0\n",
    "\n",
    "    \n",
    "def behind(fila):\n",
    "    \n",
    "    if 'Behind' in fila['special_features']:\n",
    "        return 1\n",
    "    else:\n",
    "        return 0\n",
    "    \n",
    "def comment(fila):\n",
    "    \n",
    "    if 'Comm' in fila['special_features']:\n",
    "        return 1\n",
    "    else:\n",
    "        return 0\n",
    "    \n",
    "def trailer(fila):\n",
    "    if 'Trai' in fila ['special_features']:\n",
    "        return 1\n",
    "    else:\n",
    "        return 0"
   ]
  },
  {
   "cell_type": "code",
   "execution_count": null,
   "id": "b35aa1cb",
   "metadata": {},
   "outputs": [],
   "source": [
    "# Creación de 4 nuevas columnas, aplicación de las funciones anteriores y eliminación de 'special_features':\n",
    "\n",
    "film['deleted_scenes'] = film.apply(deleted, axis = 1)\n",
    "film['behind_scenes'] = film.apply(behind, axis = 1)\n",
    "film['commentaries'] = film.apply(comment, axis = 1)\n",
    "film['trailers'] = film.apply(trailer, axis = 1)\n",
    "\n",
    "film.drop(columns = ['special_features'], inplace=True)"
   ]
  },
  {
   "cell_type": "markdown",
   "id": "ce09c28e",
   "metadata": {},
   "source": [
    "**DATAFRAME FINAL 'FILM'** "
   ]
  },
  {
   "cell_type": "code",
   "execution_count": null,
   "id": "05914b22",
   "metadata": {},
   "outputs": [],
   "source": [
    "# Reordenamos las columnas:\n",
    "\n",
    "nuevo_orden = ['film_id', 'language_id', 'title', 'description', 'length', 'rating', 'deleted_scenes', 'behind_scenes', 'commentaries', 'trailers', 'rental_duration', 'rental_rate', 'replacement_cost']\n",
    "film = film.reindex(columns=nuevo_orden)\n",
    "film.head() "
   ]
  },
  {
   "cell_type": "code",
   "execution_count": null,
   "id": "51142889",
   "metadata": {},
   "outputs": [],
   "source": [
    "# Exportamos el archivo\n",
    "\n",
    "#film.to_csv('film_clean.csv', index=False)"
   ]
  },
  {
   "cell_type": "markdown",
   "id": "37bf55a3",
   "metadata": {},
   "source": [
    "# 4. LIMPIEZA DEL ARCHIVO 'inventory.csv'\n",
    "\n",
    "+ Exploración de filas y columnas.\n",
    "+ Eliminación columna con valores idénticos.\n",
    "\n",
    "**CONTENIDO TRAS LA LIMPIEZA:**\n",
    "\n",
    "Total = 1000 registros\n",
    "+ ID de la tabla\n",
    "+ ID de la película\n",
    "+ ID de la tienda\n"
   ]
  },
  {
   "cell_type": "code",
   "execution_count": null,
   "id": "5e101781",
   "metadata": {},
   "outputs": [],
   "source": [
    "inv = pd.read_csv('../Data/inventory.csv', encoding='latin1')"
   ]
  },
  {
   "cell_type": "code",
   "execution_count": null,
   "id": "667064d3",
   "metadata": {},
   "outputs": [],
   "source": [
    "inv"
   ]
  },
  {
   "cell_type": "code",
   "execution_count": null,
   "id": "3c21891f",
   "metadata": {},
   "outputs": [],
   "source": [
    "inv['last_update'].unique()"
   ]
  },
  {
   "cell_type": "code",
   "execution_count": null,
   "id": "b010b0b9",
   "metadata": {},
   "outputs": [],
   "source": [
    "inv.drop(columns = ['last_update'], inplace = True)"
   ]
  },
  {
   "cell_type": "markdown",
   "id": "cec906d8",
   "metadata": {},
   "source": [
    "**DATAFRAME FINAL 'INVENTORY':**"
   ]
  },
  {
   "cell_type": "code",
   "execution_count": null,
   "id": "24b61bee",
   "metadata": {},
   "outputs": [],
   "source": [
    "inv.head()"
   ]
  },
  {
   "cell_type": "code",
   "execution_count": null,
   "id": "0628ad6f",
   "metadata": {},
   "outputs": [],
   "source": [
    "# Exportamos el archivo\n",
    "\n",
    "#inv.to_csv('inv_clean.csv', index=False)"
   ]
  },
  {
   "cell_type": "markdown",
   "id": "aaa9f754",
   "metadata": {},
   "source": [
    "# 5. LIMPIEZA DEL ARCHIVO 'language.csv'\n",
    "\n",
    "+ Exploración de filas y columnas.\n",
    "+ Eliminación columna con valores idénticos.\n",
    "\n",
    "**CONTENIDO TRAS LA LIMPIEZA:**\n",
    "\n",
    "Total = 6 idiomas\n",
    "+ ID del idioma\n",
    "+ Idioma\n"
   ]
  },
  {
   "cell_type": "code",
   "execution_count": null,
   "id": "0cd4bee8",
   "metadata": {},
   "outputs": [],
   "source": [
    "lan = pd.read_csv('../Data/language.csv', encoding='latin1')"
   ]
  },
  {
   "cell_type": "code",
   "execution_count": null,
   "id": "fe7a224e",
   "metadata": {},
   "outputs": [],
   "source": [
    "lan"
   ]
  },
  {
   "cell_type": "code",
   "execution_count": null,
   "id": "ddaf4199",
   "metadata": {},
   "outputs": [],
   "source": [
    "lan.last_update.unique()"
   ]
  },
  {
   "cell_type": "code",
   "execution_count": null,
   "id": "2ec11c38",
   "metadata": {},
   "outputs": [],
   "source": [
    "lan.drop(columns = ['last_update'], inplace = True)"
   ]
  },
  {
   "cell_type": "markdown",
   "id": "07b094b7",
   "metadata": {},
   "source": [
    "**DATAFRAME FINAL 'LANGUAGE':**"
   ]
  },
  {
   "cell_type": "code",
   "execution_count": null,
   "id": "81d159b6",
   "metadata": {},
   "outputs": [],
   "source": [
    "lan"
   ]
  },
  {
   "cell_type": "code",
   "execution_count": null,
   "id": "2c1aea05",
   "metadata": {},
   "outputs": [],
   "source": [
    "# Exportamos el archivo\n",
    "\n",
    "#lan.to_csv('lan_clean.csv', index=False)"
   ]
  },
  {
   "cell_type": "markdown",
   "id": "980a6961",
   "metadata": {},
   "source": [
    "# 6. LIMPIEZA DEL ARCHIVO 'old_HDD.csv'\n",
    "\n",
    "+ Exploración de filas y columnas.\n",
    "+ Unión de 'first_name' y 'last_name' en nueva columna 'name'.\n",
    "+ Eliminación columna con valores idénticos.\n",
    "\n",
    "**CONTENIDO TRAS LA LIMPIEZA:**\n",
    "\n",
    "Total = 1000 registros\n",
    "+ Nombre del actor/actriz\n",
    "+ Título de la película\n",
    "+ ID categoría"
   ]
  },
  {
   "cell_type": "code",
   "execution_count": null,
   "id": "0240b861",
   "metadata": {},
   "outputs": [],
   "source": [
    "old = pd.read_csv('../Data/old_HDD.csv', encoding='latin1')"
   ]
  },
  {
   "cell_type": "code",
   "execution_count": null,
   "id": "1b8cb3e5",
   "metadata": {},
   "outputs": [],
   "source": [
    "old"
   ]
  },
  {
   "cell_type": "code",
   "execution_count": null,
   "id": "cbb5e7f2",
   "metadata": {},
   "outputs": [],
   "source": [
    "# Unificamos el nombre y el apellido en una sola columna llamada 'name'\n",
    "\n",
    "old['name'] = old['first_name'] + ' ' + old['last_name']\n",
    "delet = ['first_name', 'last_name']\n",
    "old.drop(columns = delet, inplace=True)"
   ]
  },
  {
   "cell_type": "code",
   "execution_count": null,
   "id": "c2856a4f",
   "metadata": {},
   "outputs": [],
   "source": [
    "old.release_year.unique()      # Verificamos valores idénticos en la columna 'release_year'"
   ]
  },
  {
   "cell_type": "code",
   "execution_count": null,
   "id": "0fd0da77",
   "metadata": {},
   "outputs": [],
   "source": [
    "old.drop(columns = ['release_year'], inplace=True)    # Eliminamos columna"
   ]
  },
  {
   "cell_type": "markdown",
   "id": "3a890b7b",
   "metadata": {},
   "source": [
    "**DATAFRAME FINAL 'OLD_HDD':**"
   ]
  },
  {
   "cell_type": "code",
   "execution_count": null,
   "id": "a5b24a3b",
   "metadata": {},
   "outputs": [],
   "source": [
    "# Reordenamos las columnas:\n",
    "\n",
    "nuevo_orden = ['name', 'title', 'category_id']\n",
    "old = old.reindex(columns=nuevo_orden)\n",
    "old.head()"
   ]
  },
  {
   "cell_type": "code",
   "execution_count": null,
   "id": "3d3e9768",
   "metadata": {},
   "outputs": [],
   "source": [
    "# Exportamos el archivo\n",
    "\n",
    "#old.to_csv('old_clean.csv', index=False)"
   ]
  },
  {
   "cell_type": "markdown",
   "id": "e974569b",
   "metadata": {},
   "source": [
    "# 7. LIMPIEZA DEL ARCHIVO 'rental.csv'\n",
    "\n",
    "+ Exploración de filas y columnas.\n",
    "+ Reseteo del índice en 'rental_id'\n",
    "+ Eliminación columna con valores idénticos\n",
    "+ Conversión a datetime de las columnas 'rental_date' y 'return_date'\n",
    "+ Nueva columna con los días de préstamo\n",
    "+ Reordenación de las columnas\n",
    "\n",
    "**CONTENIDO TRAS LA LIMPIEZA:**\n",
    "\n",
    "Total = 1000 registros\n",
    "+ ID\n",
    "+ ID de inventario\n",
    "+ ID de vendedor\n",
    "+ ID de cliente\n",
    "+ Fecha de alquiler\n",
    "+ Fecha de retorno\n"
   ]
  },
  {
   "cell_type": "code",
   "execution_count": 11,
   "id": "e5877d51",
   "metadata": {},
   "outputs": [
    {
     "data": {
      "text/html": [
       "<div>\n",
       "<style scoped>\n",
       "    .dataframe tbody tr th:only-of-type {\n",
       "        vertical-align: middle;\n",
       "    }\n",
       "\n",
       "    .dataframe tbody tr th {\n",
       "        vertical-align: top;\n",
       "    }\n",
       "\n",
       "    .dataframe thead th {\n",
       "        text-align: right;\n",
       "    }\n",
       "</style>\n",
       "<table border=\"1\" class=\"dataframe\">\n",
       "  <thead>\n",
       "    <tr style=\"text-align: right;\">\n",
       "      <th></th>\n",
       "      <th>rental_id</th>\n",
       "      <th>rental_date</th>\n",
       "      <th>inventory_id</th>\n",
       "      <th>customer_id</th>\n",
       "      <th>return_date</th>\n",
       "      <th>staff_id</th>\n",
       "      <th>last_update</th>\n",
       "    </tr>\n",
       "  </thead>\n",
       "  <tbody>\n",
       "    <tr>\n",
       "      <th>0</th>\n",
       "      <td>1</td>\n",
       "      <td>2005-05-24 22:53:30</td>\n",
       "      <td>367</td>\n",
       "      <td>130</td>\n",
       "      <td>2005-05-26 22:04:30</td>\n",
       "      <td>1</td>\n",
       "      <td>2006-02-15 21:30:53</td>\n",
       "    </tr>\n",
       "    <tr>\n",
       "      <th>1</th>\n",
       "      <td>2</td>\n",
       "      <td>2005-05-24 22:54:33</td>\n",
       "      <td>1525</td>\n",
       "      <td>459</td>\n",
       "      <td>2005-05-28 19:40:33</td>\n",
       "      <td>1</td>\n",
       "      <td>2006-02-15 21:30:53</td>\n",
       "    </tr>\n",
       "    <tr>\n",
       "      <th>2</th>\n",
       "      <td>3</td>\n",
       "      <td>2005-05-24 23:03:39</td>\n",
       "      <td>1711</td>\n",
       "      <td>408</td>\n",
       "      <td>2005-06-01 22:12:39</td>\n",
       "      <td>1</td>\n",
       "      <td>2006-02-15 21:30:53</td>\n",
       "    </tr>\n",
       "    <tr>\n",
       "      <th>3</th>\n",
       "      <td>4</td>\n",
       "      <td>2005-05-24 23:04:41</td>\n",
       "      <td>2452</td>\n",
       "      <td>333</td>\n",
       "      <td>2005-06-03 01:43:41</td>\n",
       "      <td>2</td>\n",
       "      <td>2006-02-15 21:30:53</td>\n",
       "    </tr>\n",
       "    <tr>\n",
       "      <th>4</th>\n",
       "      <td>5</td>\n",
       "      <td>2005-05-24 23:05:21</td>\n",
       "      <td>2079</td>\n",
       "      <td>222</td>\n",
       "      <td>2005-06-02 04:33:21</td>\n",
       "      <td>1</td>\n",
       "      <td>2006-02-15 21:30:53</td>\n",
       "    </tr>\n",
       "    <tr>\n",
       "      <th>...</th>\n",
       "      <td>...</td>\n",
       "      <td>...</td>\n",
       "      <td>...</td>\n",
       "      <td>...</td>\n",
       "      <td>...</td>\n",
       "      <td>...</td>\n",
       "      <td>...</td>\n",
       "    </tr>\n",
       "    <tr>\n",
       "      <th>995</th>\n",
       "      <td>997</td>\n",
       "      <td>2005-05-31 00:08:25</td>\n",
       "      <td>4243</td>\n",
       "      <td>216</td>\n",
       "      <td>2005-06-02 00:17:25</td>\n",
       "      <td>2</td>\n",
       "      <td>2006-02-15 21:30:53</td>\n",
       "    </tr>\n",
       "    <tr>\n",
       "      <th>996</th>\n",
       "      <td>998</td>\n",
       "      <td>2005-05-31 00:16:57</td>\n",
       "      <td>3395</td>\n",
       "      <td>389</td>\n",
       "      <td>2005-06-01 22:41:57</td>\n",
       "      <td>1</td>\n",
       "      <td>2006-02-15 21:30:53</td>\n",
       "    </tr>\n",
       "    <tr>\n",
       "      <th>997</th>\n",
       "      <td>999</td>\n",
       "      <td>2005-05-31 00:25:10</td>\n",
       "      <td>4433</td>\n",
       "      <td>413</td>\n",
       "      <td>2005-06-03 06:05:10</td>\n",
       "      <td>2</td>\n",
       "      <td>2006-02-15 21:30:53</td>\n",
       "    </tr>\n",
       "    <tr>\n",
       "      <th>998</th>\n",
       "      <td>1000</td>\n",
       "      <td>2005-05-31 00:25:56</td>\n",
       "      <td>1774</td>\n",
       "      <td>332</td>\n",
       "      <td>2005-06-08 19:42:56</td>\n",
       "      <td>2</td>\n",
       "      <td>2006-02-15 21:30:53</td>\n",
       "    </tr>\n",
       "    <tr>\n",
       "      <th>999</th>\n",
       "      <td>1001</td>\n",
       "      <td>2005-05-31 00:46:31</td>\n",
       "      <td>1498</td>\n",
       "      <td>64</td>\n",
       "      <td>2005-06-06 06:14:31</td>\n",
       "      <td>2</td>\n",
       "      <td>2006-02-15 21:30:53</td>\n",
       "    </tr>\n",
       "  </tbody>\n",
       "</table>\n",
       "<p>1000 rows × 7 columns</p>\n",
       "</div>"
      ],
      "text/plain": [
       "     rental_id          rental_date  inventory_id  customer_id  \\\n",
       "0            1  2005-05-24 22:53:30           367          130   \n",
       "1            2  2005-05-24 22:54:33          1525          459   \n",
       "2            3  2005-05-24 23:03:39          1711          408   \n",
       "3            4  2005-05-24 23:04:41          2452          333   \n",
       "4            5  2005-05-24 23:05:21          2079          222   \n",
       "..         ...                  ...           ...          ...   \n",
       "995        997  2005-05-31 00:08:25          4243          216   \n",
       "996        998  2005-05-31 00:16:57          3395          389   \n",
       "997        999  2005-05-31 00:25:10          4433          413   \n",
       "998       1000  2005-05-31 00:25:56          1774          332   \n",
       "999       1001  2005-05-31 00:46:31          1498           64   \n",
       "\n",
       "             return_date  staff_id          last_update  \n",
       "0    2005-05-26 22:04:30         1  2006-02-15 21:30:53  \n",
       "1    2005-05-28 19:40:33         1  2006-02-15 21:30:53  \n",
       "2    2005-06-01 22:12:39         1  2006-02-15 21:30:53  \n",
       "3    2005-06-03 01:43:41         2  2006-02-15 21:30:53  \n",
       "4    2005-06-02 04:33:21         1  2006-02-15 21:30:53  \n",
       "..                   ...       ...                  ...  \n",
       "995  2005-06-02 00:17:25         2  2006-02-15 21:30:53  \n",
       "996  2005-06-01 22:41:57         1  2006-02-15 21:30:53  \n",
       "997  2005-06-03 06:05:10         2  2006-02-15 21:30:53  \n",
       "998  2005-06-08 19:42:56         2  2006-02-15 21:30:53  \n",
       "999  2005-06-06 06:14:31         2  2006-02-15 21:30:53  \n",
       "\n",
       "[1000 rows x 7 columns]"
      ]
     },
     "execution_count": 11,
     "metadata": {},
     "output_type": "execute_result"
    }
   ],
   "source": [
    "rent = pd.read_csv('../Data/rental.csv', encoding='latin1')\n",
    "rent"
   ]
  },
  {
   "cell_type": "code",
   "execution_count": null,
   "id": "02b501db",
   "metadata": {},
   "outputs": [],
   "source": [
    "rent.tail()     # Se observa que la secuencia en rental_id es incorrecta, faltan números"
   ]
  },
  {
   "cell_type": "code",
   "execution_count": null,
   "id": "b69d8071",
   "metadata": {},
   "outputs": [],
   "source": [
    "# Reseteamos el rango de números en la columna 'rental_id'\n",
    "\n",
    "rent['rental_id'] = range(1, len(rent) + 1)\n",
    "\n",
    "rent.tail()"
   ]
  },
  {
   "cell_type": "code",
   "execution_count": null,
   "id": "32291552",
   "metadata": {},
   "outputs": [],
   "source": [
    "rent.info(memory_usage = 'deep')"
   ]
  },
  {
   "cell_type": "code",
   "execution_count": null,
   "id": "d0903de5",
   "metadata": {},
   "outputs": [],
   "source": [
    "rent.last_update.unique()    # Comprobamos si la columna last_update tiene valores idénticos en todas las filas"
   ]
  },
  {
   "cell_type": "code",
   "execution_count": null,
   "id": "fd6d3b7c",
   "metadata": {},
   "outputs": [],
   "source": [
    "rent.drop(columns = ['last_update'], inplace=True)    # Eliminamos la columna"
   ]
  },
  {
   "cell_type": "code",
   "execution_count": null,
   "id": "5f818393",
   "metadata": {},
   "outputs": [],
   "source": [
    "# Vamos a convertir a tipo datetime las columnas de 'rental_date' y 'return_date'\n",
    "\n",
    "rent['rental_date'] = rent['rental_date'].astype(dtype='datetime64[ns]')\n",
    "rent['return_date'] = rent['return_date'].astype(dtype='datetime64[ns]')"
   ]
  },
  {
   "cell_type": "code",
   "execution_count": null,
   "id": "b2ef10a5",
   "metadata": {},
   "outputs": [],
   "source": [
    "# Añadimos una nueva columna con la diferencia entre el día del préstamo y la devolución\n",
    "\n",
    "rent['days_rented'] = (rent['return_date'] - rent['rental_date']).dt.days\n"
   ]
  },
  {
   "cell_type": "markdown",
   "id": "7977c50f",
   "metadata": {},
   "source": [
    "**.dt.days**\n",
    "\n",
    "Cuando restas una Serie de datetime por otra, obtienes una nueva Serie que contiene objetos timedelta. \n",
    "Cada objeto timedelta representa la diferencia entre las fechas en días y horas. Para obtener solo la diferencia \n",
    "en días como un número entero, utilizamos el atributo .dt.days. Esto extrae el número de días de cada objeto \n",
    "timedelta y lo convierte en un valor entero"
   ]
  },
  {
   "cell_type": "code",
   "execution_count": null,
   "id": "f8f6177f",
   "metadata": {},
   "outputs": [],
   "source": [
    "nuevo_orden = ['rental_id', 'inventory_id', 'staff_id', 'customer_id', 'rental_date', 'return_date', 'days_rented']\n",
    "rent = rent.reindex(columns=nuevo_orden)"
   ]
  },
  {
   "cell_type": "markdown",
   "id": "8bc6c764",
   "metadata": {},
   "source": [
    "**DATAFRAME FINAL 'RENTAL':**"
   ]
  },
  {
   "cell_type": "code",
   "execution_count": null,
   "id": "04e27b4d",
   "metadata": {},
   "outputs": [],
   "source": [
    "rent"
   ]
  },
  {
   "cell_type": "code",
   "execution_count": null,
   "id": "af480cf1",
   "metadata": {},
   "outputs": [],
   "source": [
    "# Exportamos el archivo\n",
    "\n",
    "#rent.to_csv('rent_clean.csv', index=False)"
   ]
  }
 ],
 "metadata": {
  "kernelspec": {
   "display_name": "Python 3 (ipykernel)",
   "language": "python",
   "name": "python3"
  },
  "language_info": {
   "codemirror_mode": {
    "name": "ipython",
    "version": 3
   },
   "file_extension": ".py",
   "mimetype": "text/x-python",
   "name": "python",
   "nbconvert_exporter": "python",
   "pygments_lexer": "ipython3",
   "version": "3.11.4"
  }
 },
 "nbformat": 4,
 "nbformat_minor": 5
}
